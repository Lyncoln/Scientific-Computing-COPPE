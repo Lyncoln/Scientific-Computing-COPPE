{
 "cells": [
  {
   "cell_type": "code",
   "execution_count": 1,
   "id": "bce230fc",
   "metadata": {},
   "outputs": [],
   "source": [
    "import ssgetpy\n",
    "import os\n",
    "from scipy.sparse.linalg import eigsh\n",
    "from scipy.sparse import csr_matrix\n",
    "from scipy.sparse import csc_matrix\n",
    "import numpy as np \n",
    "from scipy.io import mmread\n",
    "import time"
   ]
  },
  {
   "cell_type": "code",
   "execution_count": 2,
   "id": "7724d042",
   "metadata": {},
   "outputs": [],
   "source": [
    "# consulta = ssgetpy.search(rowbounds=(500_000,700_000),colbounds=(500_000,700_000),nzbounds = (1_000_000,10_000_000),limit = 50)[8]\n",
    "# consulta"
   ]
  },
  {
   "cell_type": "code",
   "execution_count": 3,
   "id": "89722a44",
   "metadata": {},
   "outputs": [],
   "source": [
    "# consulta.download(destpath = f'{os.getcwd()}\\\\matrix',extract=True)"
   ]
  },
  {
   "cell_type": "code",
   "execution_count": 4,
   "id": "99c7b66c",
   "metadata": {},
   "outputs": [
    {
     "data": {
      "text/plain": [
       "<525825x525825 sparse matrix of type '<class 'numpy.float64'>'\n",
       "\twith 3674625 stored elements in COOrdinate format>"
      ]
     },
     "execution_count": 4,
     "metadata": {},
     "output_type": "execute_result"
    }
   ],
   "source": [
    "A = mmread(f'{os.getcwd()}\\\\matrix\\\\parabolic_fem\\\\parabolic_fem.mtx')\n",
    "A"
   ]
  },
  {
   "cell_type": "code",
   "execution_count": null,
   "id": "54369b9c",
   "metadata": {},
   "outputs": [
    {
     "name": "stdout",
     "output_type": "stream",
     "text": [
      "5\n",
      "1976.736801147461\n",
      "10\n"
     ]
    }
   ],
   "source": [
    "for n in [5,10]:\n",
    "    print(n)\n",
    "    np.random.seed(18052022)\n",
    "    v0 = np.random.rand(min(A.shape))\n",
    "    start = time.time()\n",
    "    eigenvalues, eigenvectors = eigsh(A, k=n, v0=v0)\n",
    "    end = time.time()\n",
    "    print(end-start)\n",
    "    np.save(f\"eigenvalues_COO_{str(n)}.npy\",eigenvalues)\n",
    "    np.save(f\"eigenvectors_COO_{str(n)}.npy\",eigenvectors)\n",
    "    np.save(f\"time_COO_{str(n)}.npy\",end-start)"
   ]
  },
  {
   "cell_type": "code",
   "execution_count": null,
   "id": "f5f7c536",
   "metadata": {},
   "outputs": [],
   "source": [
    "A2 = csr_matrix(A)\n",
    "A2"
   ]
  },
  {
   "cell_type": "code",
   "execution_count": null,
   "id": "f2db033b",
   "metadata": {},
   "outputs": [],
   "source": [
    "for n in [5,10]:\n",
    "    print(n)\n",
    "    np.random.seed(18052022)\n",
    "    v0 = np.random.rand(min(A.shape))\n",
    "    start = time.time()\n",
    "    eigenvalues, eigenvectors = eigsh(A2, k=n, v0=v0)\n",
    "    end = time.time()\n",
    "    print(end-start)\n",
    "    np.save(f\"eigenvalues_CSR_{str(n)}.npy\",eigenvalues)\n",
    "    np.save(f\"eigenvectors_CSR_{str(n)}.npy\",eigenvectors)\n",
    "    np.save(f\"time_CSR_{str(n)}.npy\",end-start)"
   ]
  },
  {
   "cell_type": "code",
   "execution_count": null,
   "id": "b3a9e55f",
   "metadata": {},
   "outputs": [],
   "source": [
    "A3 = csc_matrix(A)\n",
    "A3"
   ]
  },
  {
   "cell_type": "code",
   "execution_count": null,
   "id": "a3644156",
   "metadata": {},
   "outputs": [],
   "source": [
    "for n in [5,10]:\n",
    "    print(n)\n",
    "    np.random.seed(18052022)\n",
    "    v0 = np.random.rand(min(A.shape))\n",
    "    start = time.time()\n",
    "    eigenvalues, eigenvectors = eigsh(A3, k=n, v0=v0)\n",
    "    end = time.time()\n",
    "    print(end-start)\n",
    "    np.save(f\"eigenvalues_CSC_{str(n)}.npy\",eigenvalues)\n",
    "    np.save(f\"eigenvectors_CSC_{str(n)}.npy\",eigenvectors)\n",
    "    np.save(f\"time_CSC_{str(n)}.npy\",end-start)"
   ]
  }
 ],
 "metadata": {
  "kernelspec": {
   "display_name": "Python 3 (ipykernel)",
   "language": "python",
   "name": "python3"
  },
  "language_info": {
   "codemirror_mode": {
    "name": "ipython",
    "version": 3
   },
   "file_extension": ".py",
   "mimetype": "text/x-python",
   "name": "python",
   "nbconvert_exporter": "python",
   "pygments_lexer": "ipython3",
   "version": "3.8.9"
  }
 },
 "nbformat": 4,
 "nbformat_minor": 5
}
