{
 "cells": [
  {
   "cell_type": "code",
   "execution_count": null,
   "id": "7cd2a25a",
   "metadata": {},
   "outputs": [],
   "source": [
    "import ssgetpy\n",
    "from scipy.io import mmread \n",
    "from scipy.sparse import csr_matrix, eye, spdiags\n",
    "from scipy.sparse.linalg import inv, eigsh\n",
    "from numpy.linalg import cond\n",
    "import numpy as np\n",
    "import os\n",
    "import time \n",
    "\n",
    "import matplotlib.pyplot as plt\n",
    "from matplotlib.lines import Line2D\n",
    "from matplotlib import rc\n",
    "\n",
    "import seaborn as sns\n",
    "import pandas as pd\n",
    "\n",
    "sns.set_theme(font_scale=1.1)"
   ]
  },
  {
   "cell_type": "code",
   "execution_count": null,
   "id": "57b236d1",
   "metadata": {
    "scrolled": false
   },
   "outputs": [],
   "source": [
    "matrix = ssgetpy.search(rowbounds=(100_000,150_000),\n",
    "               colbounds=(100_000,150_000),\n",
    "               nzbounds = (0,1_000_000), \n",
    "               isspd = True)\n",
    "matrix"
   ]
  },
  {
   "cell_type": "code",
   "execution_count": null,
   "id": "ebfe6fb4",
   "metadata": {},
   "outputs": [],
   "source": [
    "# matrix.download(destpath = f'{os.getcwd()}\\\\matrix',extract=True)"
   ]
  },
  {
   "cell_type": "code",
   "execution_count": null,
   "id": "d913c43b",
   "metadata": {},
   "outputs": [],
   "source": [
    "# matrix = mmread('matrix\\\\torsion1\\\\torsion1.mtx')\n",
    "# matrix = mmread('matrix\\\\obstclae\\\\obstclae.mtx')\n",
    "# matrix = mmread('matrix\\\\Dubcova1\\\\Dubcova1.mtx')\n",
    "# matrix = mmread('matrix\\\\jnlbrng1\\\\jnlbrng1.mtx') #\n",
    "matrix = mmread('matrix\\\\thermomech_TC\\\\thermomech_TC.mtx') #\n",
    "# matrix = mmread('matrix\\\\dubcova3\\\\dubcova3.mtx')\n",
    "\n",
    "matrix = csr_matrix(matrix)\n",
    "b = np.zeros((matrix.shape[0],1))\n",
    "seed = 14062022\n",
    "# np.random.seed(seed)\n",
    "\n",
    "matrix"
   ]
  },
  {
   "cell_type": "code",
   "execution_count": null,
   "id": "dbc3304c",
   "metadata": {},
   "outputs": [],
   "source": [
    "max_eig = np.abs(eigsh(matrix, k = 1, which='LM',return_eigenvectors=False)[0])\n",
    "min_eig = np.abs(eigsh(matrix, k = 1, which='SM',return_eigenvectors=False)[0])"
   ]
  },
  {
   "cell_type": "code",
   "execution_count": null,
   "id": "11e439e7",
   "metadata": {},
   "outputs": [],
   "source": [
    "max_eig/min_eig"
   ]
  },
  {
   "cell_type": "code",
   "execution_count": null,
   "id": "fc74273f",
   "metadata": {},
   "outputs": [],
   "source": [
    "n = matrix.shape[0]\n",
    "M = matrix.diagonal()\n",
    "M_inv = spdiags(np.divide(eye(n).data,M), diags= 0,  m = n, n = n)\n",
    "M_A = M_inv.dot(matrix)"
   ]
  },
  {
   "cell_type": "code",
   "execution_count": null,
   "id": "a915d6fc",
   "metadata": {},
   "outputs": [],
   "source": [
    "max_eig = np.abs(eigsh(M_A, k = 1, which='LM',return_eigenvectors=False)[0])\n",
    "min_eig = np.abs(eigsh(M_A, k = 1, which='SM',return_eigenvectors=False)[0])"
   ]
  },
  {
   "cell_type": "code",
   "execution_count": null,
   "id": "a059795e",
   "metadata": {},
   "outputs": [],
   "source": [
    "max_eig/min_eig"
   ]
  },
  {
   "cell_type": "code",
   "execution_count": null,
   "id": "fffccb30",
   "metadata": {},
   "outputs": [],
   "source": [
    "def plot_conv(itters,results,metodo):\n",
    "    fig,ax = plt.subplots(figsize = (20,5))\n",
    "\n",
    "    ax.plot(itters,\n",
    "            np.log10(results),\n",
    "            '-o',markersize=5)\n",
    "\n",
    "    plt.title(\"Convergência \"+ metodo)\n",
    "    plt.xlabel(\"Iterações\")\n",
    "    plt.ylabel(\"Log10 Norma L2 x_k\")\n",
    "    plt.show()"
   ]
  },
  {
   "cell_type": "markdown",
   "id": "1d00b9f2",
   "metadata": {},
   "source": [
    "### Steepest Descent"
   ]
  },
  {
   "cell_type": "code",
   "execution_count": null,
   "id": "c689e8aa",
   "metadata": {},
   "outputs": [],
   "source": [
    "def steepest_descent(A,b,qtd,tol):\n",
    "    n = A.shape[0]\n",
    "    x = np.random.rand(n,1)\n",
    "\n",
    "    itters = [0]\n",
    "    results = [np.linalg.norm(x,2)]\n",
    "    \n",
    "    res = np.subtract(b, A.dot(x))\n",
    "    alfa_num = np.matrix.transpose(res).dot(res)\n",
    "    \n",
    "    for i in range(qtd):\n",
    "        q = A.dot(res)\n",
    "        alfa_deno = np.matrix.transpose(res).dot(q)\n",
    "        alfa = np.divide(alfa_num, alfa_deno)\n",
    "        \n",
    "        x = np.add(x, alfa*res)\n",
    "    \n",
    "        norm_x = np.linalg.norm(x,2)\n",
    "        \n",
    "        itters.append(i+1)\n",
    "        results.append(norm_x)\n",
    "        \n",
    "        if(i % 50 == 0):\n",
    "            res = np.subtract(b, A.dot(x))\n",
    "        else:\n",
    "            res = np.subtract(res, alfa*q)\n",
    "            \n",
    "        alfa_num = np.matrix.transpose(res).dot(res)\n",
    "        \n",
    "        if norm_x <= tol:\n",
    "            return (itters,results)\n",
    "\n",
    "    return False"
   ]
  },
  {
   "cell_type": "code",
   "execution_count": null,
   "id": "006b584f",
   "metadata": {},
   "outputs": [],
   "source": [
    "np.random.seed(seed)\n",
    "itters_sd,results_sd = steepest_descent(matrix,b,qtd = 10**9,tol = 1e-8)"
   ]
  },
  {
   "cell_type": "code",
   "execution_count": null,
   "id": "cef906f8",
   "metadata": {
    "scrolled": true
   },
   "outputs": [],
   "source": [
    "plot_conv(itters_sd,results_sd,\"Steepest Descent\")"
   ]
  },
  {
   "cell_type": "markdown",
   "id": "1f2fb6bc",
   "metadata": {},
   "source": [
    "### Steepest Descent Diagonal Preconditioned"
   ]
  },
  {
   "cell_type": "code",
   "execution_count": null,
   "id": "adc88750",
   "metadata": {},
   "outputs": [],
   "source": [
    "def steepest_descent_diagonal(A,b,qtd,tol):\n",
    "    n = A.shape[0]\n",
    "    x = np.random.rand(n,1)\n",
    "    \n",
    "    itters = [0]\n",
    "    results = [np.linalg.norm(x,2)]\n",
    "    \n",
    "    res = np.subtract(b, A.dot(x))\n",
    "    M = A.diagonal()\n",
    "    M_inv = spdiags(np.divide(eye(n).data, M), diags= 0,  m = n, n = n)\n",
    "    z = M_inv.dot(res)\n",
    "    alfa_num = np.matrix.transpose(z).dot(res)\n",
    "    \n",
    "    for i in range(qtd):\n",
    "        \n",
    "        q = A.dot(z)\n",
    "        alfa_deno = np.matrix.transpose(z).dot(q)\n",
    "        alfa = np.divide(alfa_num,alfa_deno)\n",
    "        \n",
    "        x = np.add(x, alfa*z)\n",
    "        \n",
    "        norm_x = np.linalg.norm(x,2)\n",
    "        \n",
    "        itters.append(i+1)\n",
    "        results.append(norm_x)\n",
    "        \n",
    "        if(i % 10 == 0):\n",
    "            res = np.subtract(b, A.dot(x))\n",
    "        else:\n",
    "            res = np.subtract(res, alfa*q)\n",
    "        \n",
    "        z = M_inv.dot(res)\n",
    "        \n",
    "        alfa_num = np.matrix.transpose(z).dot(res)\n",
    "        \n",
    "        if  norm_x  <= tol:\n",
    "            return (itters,results)\n",
    "\n",
    "    return False"
   ]
  },
  {
   "cell_type": "code",
   "execution_count": null,
   "id": "3025a01f",
   "metadata": {},
   "outputs": [],
   "source": [
    "%%time\n",
    "np.random.seed(seed)\n",
    "itters_sdd,results_sdd = steepest_descent_diagonal(matrix,b,qtd = 10**9,tol = 1e-8)"
   ]
  },
  {
   "cell_type": "code",
   "execution_count": null,
   "id": "46b2e2af",
   "metadata": {},
   "outputs": [],
   "source": [
    "plot_conv(itters_sdd,results_sdd,\"Steepest Descent Precondicionado pela Diagonal\")"
   ]
  },
  {
   "cell_type": "markdown",
   "id": "eb004f12",
   "metadata": {},
   "source": [
    "### Conjugate Gradients"
   ]
  },
  {
   "cell_type": "code",
   "execution_count": null,
   "id": "53dfcf4a",
   "metadata": {},
   "outputs": [],
   "source": [
    "def conjugate_gradient(A,b,qtd,tol):\n",
    "    x = np.random.rand(A.shape[0],1)\n",
    "    \n",
    "    itters = [0]\n",
    "    results = [np.linalg.norm(x,2)]\n",
    "    \n",
    "    res = np.subtract(b, A.dot(x))\n",
    "    res_t = np.matrix.transpose(res)\n",
    "    d = res\n",
    "    delta_new = res_t.dot(res)\n",
    "    \n",
    "    for i in range(qtd):\n",
    "        q = A.dot(d)\n",
    "        alpha = np.divide(delta_new, (np.matrix.transpose(d).dot(q)))\n",
    "        \n",
    "        x = np.add(x, alpha*d)\n",
    "        \n",
    "        norm_x = np.linalg.norm(x,2)\n",
    "        \n",
    "        if(i % 10 == 0):\n",
    "            res = np.subtract(b, (A.dot(x)))\n",
    "        else:\n",
    "            res = np.subtract(res, alpha*q)\n",
    "        \n",
    "        delta_old = delta_new\n",
    "        delta_new = np.matrix.transpose(res).dot(res)\n",
    "        beta = np.divide(delta_new, delta_old)\n",
    "        d = np.add(res, beta*d)\n",
    "        \n",
    "        itters.append(i+1)\n",
    "        results.append(np.linalg.norm(x,2))\n",
    "        \n",
    "        if norm_x <= tol:\n",
    "            return (itters,results)\n",
    "    \n",
    "    return False"
   ]
  },
  {
   "cell_type": "code",
   "execution_count": null,
   "id": "82b1ad96",
   "metadata": {},
   "outputs": [],
   "source": [
    "%%time\n",
    "np.random.seed(seed)\n",
    "itters_cg,results_cg = conjugate_gradient(matrix,b,qtd = 10**9,tol = 1e-8)"
   ]
  },
  {
   "cell_type": "code",
   "execution_count": null,
   "id": "b3dfd116",
   "metadata": {
    "scrolled": true
   },
   "outputs": [],
   "source": [
    "plot_conv(itters_cg,results_cg,\"Conjugate Gradients\")"
   ]
  },
  {
   "cell_type": "markdown",
   "id": "5d6de5b9",
   "metadata": {},
   "source": [
    "### Conjugate Gradients Diagonal Preconditioned"
   ]
  },
  {
   "cell_type": "code",
   "execution_count": null,
   "id": "91706349",
   "metadata": {},
   "outputs": [],
   "source": [
    "def conjugate_gradient_diagonal(A,b,qtd,tol):\n",
    "    n = A.shape[0]\n",
    "    x = np.random.rand(n,1)\n",
    "    \n",
    "    itters = [0]\n",
    "    results = [np.linalg.norm(x,2)]\n",
    "    \n",
    "    res = np.subtract(b, A.dot(x))\n",
    "    res_t = np.matrix.transpose(res)\n",
    "    M = matrix.diagonal()\n",
    "    M_inv = spdiags(np.divide(eye(n).data, M), diags= 0,  m = n, n = n)\n",
    "    d = M_inv.dot(res)\n",
    "    delta_new = res_t.dot(d)\n",
    "    \n",
    "    for i in range(qtd):\n",
    "        q = A.dot(d)\n",
    "        alpha = np.divide(delta_new, (np.matrix.transpose(d).dot(q)))\n",
    "        \n",
    "        x = np.add(x, alpha*d)\n",
    "        norm_x = np.linalg.norm(x,2)\n",
    "        \n",
    "        if(i % 10 == 0):\n",
    "            res = np.subtract(b, (A.dot(x)))\n",
    "        else:\n",
    "            res = np.subtract(res, alpha*q)\n",
    "        \n",
    "        s = M_inv.dot(res)\n",
    "        delta_old = delta_new\n",
    "        delta_new = np.matrix.transpose(res).dot(s)\n",
    "        beta = np.divide(delta_new,delta_old)\n",
    "        d = np.add(s, beta*d)\n",
    "        \n",
    "        itters.append(i+1)\n",
    "        results.append(norm_x)\n",
    "        \n",
    "        if norm_x <= tol:\n",
    "            return (itters,results)\n",
    "    \n",
    "    return False"
   ]
  },
  {
   "cell_type": "code",
   "execution_count": null,
   "id": "67d69e79",
   "metadata": {},
   "outputs": [],
   "source": [
    "%%time\n",
    "np.random.seed(seed)\n",
    "itters_cgd,results_cgd = conjugate_gradient_diagonal(matrix,b,qtd = 10**9,tol = 1e-8)"
   ]
  },
  {
   "cell_type": "code",
   "execution_count": null,
   "id": "870c5391",
   "metadata": {
    "scrolled": false
   },
   "outputs": [],
   "source": [
    "plot_conv(itters_cgd,results_cgd,\"Conjugate Gradients Precondicionado pela Diagonal\")"
   ]
  },
  {
   "cell_type": "code",
   "execution_count": null,
   "id": "361a4554",
   "metadata": {},
   "outputs": [],
   "source": [
    "num = 10\n",
    "for i in range(num):\n",
    "    np.random.seed(seed)\n",
    "    itters_sd,results_sd = steepest_descent(matrix,b,qtd = 10**9,tol = 1e-8)\n",
    "    \n",
    "    np.random.seed(seed)\n",
    "    start_sdd = time.time()\n",
    "    itters_sdd,results_sdd = steepest_descent_diagonal(matrix,b,qtd = 10**9,tol = 1e-8)\n",
    "\n",
    "    np.random.seed(seed)\n",
    "    itters_cg,results_cg = conjugate_gradient(matrix,b,qtd = 10**9,tol = 1e-8)\n",
    "\n",
    "    np.random.seed(seed)\n",
    "    itters_cgd,results_cgd = conjugate_gradient_diagonal(matrix,b,qtd = 10**9,tol = 1e-8)"
   ]
  },
  {
   "cell_type": "code",
   "execution_count": null,
   "id": "5df7eeaf",
   "metadata": {},
   "outputs": [],
   "source": [
    "time_sd = time_sdd = time_cg = time_cgd = 0 \n",
    "\n",
    "num = 20\n",
    "for i in range(num):\n",
    "    np.random.seed(seed)\n",
    "    start_sd = time.time()\n",
    "    itters_sd,results_sd = steepest_descent(matrix,b,qtd = 10**9,tol = 1e-8)\n",
    "    end_sd = time.time()\n",
    "    time_sd += end_sd - start_sd\n",
    "\n",
    "    np.random.seed(seed)\n",
    "    start_sdd = time.time()\n",
    "    itters_sdd,results_sdd = steepest_descent_diagonal(matrix,b,qtd = 10**9,tol = 1e-8)\n",
    "    end_sdd = time.time()\n",
    "    time_sdd += end_sdd - start_sdd\n",
    "\n",
    "    np.random.seed(seed)\n",
    "    start_cg = time.time()\n",
    "    itters_cg,results_cg = conjugate_gradient(matrix,b,qtd = 10**9,tol = 1e-8)\n",
    "    end_cg = time.time()\n",
    "    time_cg += end_cg - start_cg\n",
    "\n",
    "    np.random.seed(seed)\n",
    "    start_cgd = time.time()\n",
    "    itters_cgd,results_cgd = conjugate_gradient_diagonal(matrix,b,qtd = 10**9,tol = 1e-8)\n",
    "    end_cgd = time.time()\n",
    "    time_cgd += end_cgd - start_cgd\n",
    "\n",
    "time_sd = time_sd/num\n",
    "time_sdd = time_sdd/num\n",
    "time_cg = time_cg/num\n",
    "time_cgd = time_cgd/num"
   ]
  },
  {
   "cell_type": "code",
   "execution_count": null,
   "id": "07fe7b3f",
   "metadata": {},
   "outputs": [],
   "source": [
    "print([time_sd,time_sdd,time_cg,time_cgd])"
   ]
  },
  {
   "cell_type": "markdown",
   "id": "f4091764",
   "metadata": {},
   "source": [
    "### Gráfico Tempo"
   ]
  },
  {
   "cell_type": "code",
   "execution_count": null,
   "id": "725a38e1",
   "metadata": {
    "scrolled": true
   },
   "outputs": [],
   "source": [
    "fig, (ax1) = plt.subplots(nrows=1,ncols=1, figsize = (12,5), sharex=True, sharey=True)\n",
    "\n",
    "\n",
    "x = [\"Steepest Descent\",\"Steepest Descent Preconditionado\",\"Conjugate Gradients\",\"Conjugate Gradients Precondicionado\"]\n",
    "y = [time_sd,time_sdd,time_cg,time_cgd]\n",
    "ax1.bar(x, y)\n",
    "for i,t in enumerate(y):\n",
    "    ax1.text(i,t/2,s=round(t,2),ha=\"center\",va=\"center\",c=\"w\",fontdict={'size':12})\n",
    "\n",
    "ax1.set_title('Tempo de execução até convergência dos métodos')\n",
    "ax1.set_ylabel('Tempo (s)')\n",
    "\n",
    "plt.show()"
   ]
  },
  {
   "cell_type": "markdown",
   "id": "ed94a3c9",
   "metadata": {},
   "source": [
    "### Gráfico Iterações"
   ]
  },
  {
   "cell_type": "code",
   "execution_count": null,
   "id": "a43ee741",
   "metadata": {},
   "outputs": [],
   "source": [
    "results = pd.DataFrame()\n",
    "results[\"Steepest Descent\"] = pd.Series(results_sd)\n",
    "results[\"Steepest Descent Precondicionado\"] = pd.Series(results_sdd)\n",
    "results[\"Conjugate Gradients\"] = pd.Series(results_cg)\n",
    "results[\"Conjugate Gradients Precondicionado\"] = pd.Series(results_cgd)\n"
   ]
  },
  {
   "cell_type": "code",
   "execution_count": null,
   "id": "61270eb4",
   "metadata": {},
   "outputs": [],
   "source": [
    "plt.rcParams['text.usetex'] = True\n",
    "\n",
    "fig, (ax1) = plt.subplots(nrows=1, figsize = (15,5), sharex=True)\n",
    "# markers_char = [\"|\", \"x\", \"*\", \"s\"]\n",
    "met = results.columns\n",
    "# markers = dict(zip(queries,markers_char))\n",
    "\n",
    "\n",
    "\n",
    "for q in met:\n",
    "    x = results.index\n",
    "    y = np.log10(results[q])\n",
    "#     ax1.plot(x, y, linewidth=1,marker=markers[q],label=q)\n",
    "    ax1.plot(x, y, linewidth=1, label=q)\n",
    "#     ax1.scatter(x, y, marker=\"x\")\n",
    "\n",
    "ax1.legend(loc='lower center', ncol=7, frameon=False, bbox_to_anchor=(.5, -.30))\n",
    "\n",
    "ax1.set_xticks((25,50,75,100,600,625))\n",
    "\n",
    "ax1.set_title('Iterações até convergência')\n",
    "ax1.set_ylabel('Log_{10}(||x_k||_2)')\n",
    "ax1.set_xlabel('Iterações')\n",
    "\n",
    "plt.show()"
   ]
  }
 ],
 "metadata": {
  "kernelspec": {
   "display_name": "Python 3 (ipykernel)",
   "language": "python",
   "name": "python3"
  },
  "language_info": {
   "codemirror_mode": {
    "name": "ipython",
    "version": 3
   },
   "file_extension": ".py",
   "mimetype": "text/x-python",
   "name": "python",
   "nbconvert_exporter": "python",
   "pygments_lexer": "ipython3",
   "version": "3.8.9"
  }
 },
 "nbformat": 4,
 "nbformat_minor": 5
}
