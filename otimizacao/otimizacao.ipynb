{
 "cells": [
  {
   "cell_type": "code",
   "execution_count": 1,
   "id": "7cd2a25a",
   "metadata": {},
   "outputs": [],
   "source": [
    "import ssgetpy\n",
    "from scipy.io import mmread \n",
    "from scipy.sparse import csr_matrix, eye, spdiags\n",
    "from scipy.sparse.linalg import inv, eigsh\n",
    "from numpy.linalg import cond\n",
    "import numpy as np\n",
    "import os\n",
    "import time \n",
    "\n",
    "import matplotlib.pyplot as plt\n",
    "from matplotlib.lines import Line2D\n",
    "from matplotlib import rc\n",
    "import matplotlib\n",
    "\n",
    "import seaborn as sns\n",
    "import pandas as pd\n",
    "\n",
    "sns.set_theme()"
   ]
  },
  {
   "cell_type": "code",
   "execution_count": 2,
   "id": "57b236d1",
   "metadata": {
    "scrolled": false
   },
   "outputs": [
    {
     "data": {
      "text/html": [
       "<table><thead><th>Id</th><th>Group</th><th>Name</th><th>Rows</th><th>Cols</th><th>NNZ</th><th>DType</th><th>2D/3D Discretization?</th><th>SPD?</th><th>Pattern Symmetry</th><th>Numerical Symmetry</th><th>Kind</th><th>Spy Plot</th></thead><tbody><tr><td>2257</td><td><a href=\"https://sparse.tamu.edu/Botonakis\" target=\"_blank\">Botonakis</a></td><td><a href=\"https://sparse.tamu.edu/Botonakis/thermomech_TC\" target=\"_blank\">thermomech_TC</a></td><td>102158</td><td>102158</td><td>711558</td><td>real</td><td>Yes</td><td>Yes</td><td>1.0</td><td>1.0</td><td>thermal problem</td><td><img src=\"https://sparse.tamu.edu/files/Botonakis/thermomech_TC.png\"></td></tr><tr><td>2258</td><td><a href=\"https://sparse.tamu.edu/Botonakis\" target=\"_blank\">Botonakis</a></td><td><a href=\"https://sparse.tamu.edu/Botonakis/thermomech_TK\" target=\"_blank\">thermomech_TK</a></td><td>102158</td><td>102158</td><td>711558</td><td>real</td><td>Yes</td><td>Yes</td><td>1.0</td><td>1.0</td><td>thermal problem</td><td><img src=\"https://sparse.tamu.edu/files/Botonakis/thermomech_TK.png\"></td></tr></tbody></table>"
      ],
      "text/plain": [
       "[Matrix(2257, 'Botonakis', 'thermomech_TC', 102158, 102158, 711558, 'real', True, True, 1.0, 1.0, 'thermal problem', 'https://sparse.tamu.edu/files/Botonakis/thermomech_TC.png'),\n",
       " Matrix(2258, 'Botonakis', 'thermomech_TK', 102158, 102158, 711558, 'real', True, True, 1.0, 1.0, 'thermal problem', 'https://sparse.tamu.edu/files/Botonakis/thermomech_TK.png')]"
      ]
     },
     "execution_count": 2,
     "metadata": {},
     "output_type": "execute_result"
    }
   ],
   "source": [
    "matrix = ssgetpy.search(rowbounds=(100_000,150_000),\n",
    "               colbounds=(100_000,150_000),\n",
    "               nzbounds = (0,1_000_000), \n",
    "               isspd = True)\n",
    "matrix"
   ]
  },
  {
   "cell_type": "code",
   "execution_count": 3,
   "id": "ebfe6fb4",
   "metadata": {},
   "outputs": [],
   "source": [
    "# matrix.download(destpath = f'{os.getcwd()}\\\\matrix',extract=True)"
   ]
  },
  {
   "cell_type": "code",
   "execution_count": 4,
   "id": "d913c43b",
   "metadata": {},
   "outputs": [
    {
     "data": {
      "text/plain": [
       "<102158x102158 sparse matrix of type '<class 'numpy.float64'>'\n",
       "\twith 711558 stored elements in Compressed Sparse Row format>"
      ]
     },
     "execution_count": 4,
     "metadata": {},
     "output_type": "execute_result"
    }
   ],
   "source": [
    "# matrix = mmread('matrix\\\\torsion1\\\\torsion1.mtx')\n",
    "# matrix = mmread('matrix\\\\obstclae\\\\obstclae.mtx')\n",
    "# matrix = mmread('matrix\\\\Dubcova1\\\\Dubcova1.mtx')\n",
    "# matrix = mmread('matrix\\\\jnlbrng1\\\\jnlbrng1.mtx') #\n",
    "matrix = mmread('matrix\\\\thermomech_TC\\\\thermomech_TC.mtx') #\n",
    "# matrix = mmread('matrix\\\\dubcova3\\\\dubcova3.mtx')\n",
    "\n",
    "matrix = csr_matrix(matrix)\n",
    "b = np.zeros((matrix.shape[0],1))\n",
    "seed = 14062022\n",
    "np.random.seed(seed)\n",
    "\n",
    "matrix"
   ]
  },
  {
   "cell_type": "code",
   "execution_count": 5,
   "id": "dbc3304c",
   "metadata": {},
   "outputs": [],
   "source": [
    "max_eig = np.abs(eigsh(matrix, k = 1, which='LM',return_eigenvectors=False)[0])\n",
    "min_eig = np.abs(eigsh(matrix, k = 1, which='SM',return_eigenvectors=False)[0])"
   ]
  },
  {
   "cell_type": "code",
   "execution_count": 6,
   "id": "11e439e7",
   "metadata": {},
   "outputs": [
    {
     "data": {
      "text/plain": [
       "67.29214490492468"
      ]
     },
     "execution_count": 6,
     "metadata": {},
     "output_type": "execute_result"
    }
   ],
   "source": [
    "max_eig/min_eig"
   ]
  },
  {
   "cell_type": "code",
   "execution_count": 7,
   "id": "fc74273f",
   "metadata": {},
   "outputs": [],
   "source": [
    "n = matrix.shape[0]\n",
    "M = matrix.diagonal()\n",
    "M_inv = spdiags(np.divide(eye(n).data,M), diags= 0,  m = n, n = n)\n",
    "M_A = M_inv.dot(matrix)"
   ]
  },
  {
   "cell_type": "code",
   "execution_count": null,
   "id": "a915d6fc",
   "metadata": {},
   "outputs": [],
   "source": [
    "max_eig = np.abs(eigsh(M_A, k = 1, which='LM',return_eigenvectors=False)[0])\n",
    "min_eig = np.abs(eigsh(M_A, k = 1, which='SM',return_eigenvectors=False)[0])"
   ]
  },
  {
   "cell_type": "code",
   "execution_count": null,
   "id": "a059795e",
   "metadata": {},
   "outputs": [],
   "source": [
    "max_eig/min_eig"
   ]
  },
  {
   "cell_type": "code",
   "execution_count": null,
   "id": "fffccb30",
   "metadata": {},
   "outputs": [],
   "source": [
    "def plot_conv(itters,results,metodo):\n",
    "    fig,ax = plt.subplots(figsize = (20,5))\n",
    "\n",
    "    ax.plot(itters,\n",
    "            np.log10(results),\n",
    "            '-o',markersize=5)\n",
    "\n",
    "    plt.title(\"Convergência \"+ metodo)\n",
    "    plt.xlabel(\"Iterações\")\n",
    "    plt.ylabel(\"Log10 Norma L2 x_k\")\n",
    "    plt.show()"
   ]
  },
  {
   "cell_type": "markdown",
   "id": "1d00b9f2",
   "metadata": {},
   "source": [
    "### Steepest Descent"
   ]
  },
  {
   "cell_type": "code",
   "execution_count": null,
   "id": "c689e8aa",
   "metadata": {},
   "outputs": [],
   "source": [
    "def steepest_descent(A,b,qtd,tol):\n",
    "    n = A.shape[0]\n",
    "    x = np.random.rand(n,1)\n",
    "\n",
    "    itters = [0]\n",
    "    results = [np.linalg.norm(x,2)]\n",
    "    \n",
    "    res = np.subtract(b, A.dot(x))\n",
    "    alfa_num = np.matrix.transpose(res).dot(res)\n",
    "    \n",
    "    for i in range(qtd):\n",
    "        q = A.dot(res)\n",
    "        alfa_deno = np.matrix.transpose(res).dot(q)\n",
    "        alfa = np.divide(alfa_num, alfa_deno)\n",
    "        \n",
    "        x = np.add(x, alfa*res)\n",
    "    \n",
    "        norm_x = np.linalg.norm(x,2)\n",
    "        \n",
    "        itters.append(i+1)\n",
    "        results.append(norm_x)\n",
    "        \n",
    "        if(i % 50 == 0):\n",
    "            res = np.subtract(b, A.dot(x))\n",
    "        else:\n",
    "            res = np.subtract(res, alfa*q)\n",
    "            \n",
    "        alfa_num = np.matrix.transpose(res).dot(res)\n",
    "        \n",
    "        if norm_x <= tol:\n",
    "            return (itters,results)\n",
    "\n",
    "    return False"
   ]
  },
  {
   "cell_type": "code",
   "execution_count": null,
   "id": "006b584f",
   "metadata": {},
   "outputs": [],
   "source": [
    "%%time\n",
    "np.random.seed(seed)\n",
    "itters_sd,results_sd = steepest_descent(matrix,b,qtd = 10**9,tol = 1e-8)"
   ]
  },
  {
   "cell_type": "code",
   "execution_count": null,
   "id": "cef906f8",
   "metadata": {
    "scrolled": true
   },
   "outputs": [],
   "source": [
    "plot_conv(itters_sd,results_sd,\"Steepest Descent\")"
   ]
  },
  {
   "cell_type": "markdown",
   "id": "1f2fb6bc",
   "metadata": {},
   "source": [
    "### Steepest Descent Diagonal Preconditioned"
   ]
  },
  {
   "cell_type": "code",
   "execution_count": null,
   "id": "adc88750",
   "metadata": {},
   "outputs": [],
   "source": [
    "def steepest_descent_diagonal(A,b,qtd,tol):\n",
    "    n = A.shape[0]\n",
    "    x = np.random.rand(n,1)\n",
    "    \n",
    "    itters = [0]\n",
    "    results = [np.linalg.norm(x,2)]\n",
    "    \n",
    "    res = np.subtract(b, A.dot(x))\n",
    "    M = A.diagonal()\n",
    "    M_inv = spdiags(np.divide(eye(n).data, M), diags= 0,  m = n, n = n)\n",
    "    z = M_inv.dot(res)\n",
    "    alfa_num = np.matrix.transpose(z).dot(res)\n",
    "    \n",
    "    for i in range(qtd):\n",
    "        \n",
    "        q = A.dot(z)\n",
    "        alfa_deno = np.matrix.transpose(z).dot(q)\n",
    "        alfa = np.divide(alfa_num,alfa_deno)\n",
    "        \n",
    "        x = np.add(x, alfa*z)\n",
    "        \n",
    "        norm_x = np.linalg.norm(x,2)\n",
    "        \n",
    "        itters.append(i+1)\n",
    "        results.append(norm_x)\n",
    "        \n",
    "        if(i % 50 == 0):\n",
    "            res = np.subtract(b, A.dot(x))\n",
    "        else:\n",
    "            res = np.subtract(res, alfa*q)\n",
    "        \n",
    "        z = M_inv.dot(res)\n",
    "        \n",
    "        alfa_num = np.matrix.transpose(z).dot(res)\n",
    "        \n",
    "        if  norm_x  <= tol:\n",
    "            return (itters,results)\n",
    "\n",
    "    return False"
   ]
  },
  {
   "cell_type": "code",
   "execution_count": null,
   "id": "3025a01f",
   "metadata": {},
   "outputs": [],
   "source": [
    "%%time\n",
    "np.random.seed(seed)\n",
    "itters_sdd,results_sdd = steepest_descent_diagonal(matrix,b,qtd = 10**9,tol = 1e-8)"
   ]
  },
  {
   "cell_type": "code",
   "execution_count": null,
   "id": "46b2e2af",
   "metadata": {},
   "outputs": [],
   "source": [
    "plot_conv(itters_sdd,results_sdd,\"Steepest Descent Precondicionado pela Diagonal\")"
   ]
  },
  {
   "cell_type": "markdown",
   "id": "eb004f12",
   "metadata": {},
   "source": [
    "### Conjugate Gradients"
   ]
  },
  {
   "cell_type": "code",
   "execution_count": null,
   "id": "53dfcf4a",
   "metadata": {},
   "outputs": [],
   "source": [
    "def conjugate_gradient(A,b,qtd,tol):\n",
    "    x = np.random.rand(A.shape[0],1)\n",
    "    \n",
    "    itters = [0]\n",
    "    results = [np.linalg.norm(x,2)]\n",
    "    \n",
    "    res = np.subtract(b, A.dot(x))\n",
    "    res_t = np.matrix.transpose(res)\n",
    "    d = res\n",
    "    delta_new = res_t.dot(res)\n",
    "    \n",
    "    for i in range(qtd):\n",
    "        q = A.dot(d)\n",
    "        alpha = np.divide(delta_new, (np.matrix.transpose(d).dot(q)))\n",
    "        \n",
    "        x = np.add(x, alpha*d)\n",
    "        \n",
    "        norm_x = np.linalg.norm(x,2)\n",
    "        \n",
    "        if(i % 50 == 0):\n",
    "            res = np.subtract(b, (A.dot(x)))\n",
    "        else:\n",
    "            res = np.subtract(res, alpha*q)\n",
    "        \n",
    "        delta_old = delta_new\n",
    "        delta_new = np.matrix.transpose(res).dot(res)\n",
    "        beta = np.divide(delta_new, delta_old)\n",
    "        d = np.add(res, beta*d)\n",
    "        \n",
    "        itters.append(i+1)\n",
    "        results.append(np.linalg.norm(x,2))\n",
    "        \n",
    "        if norm_x <= tol:\n",
    "            return (itters,results)\n",
    "    \n",
    "    return False"
   ]
  },
  {
   "cell_type": "code",
   "execution_count": null,
   "id": "82b1ad96",
   "metadata": {},
   "outputs": [],
   "source": [
    "%%time\n",
    "np.random.seed(seed)\n",
    "itters_cg,results_cg = conjugate_gradient(matrix,b,qtd = 10**9,tol = 1e-8)"
   ]
  },
  {
   "cell_type": "code",
   "execution_count": null,
   "id": "b3dfd116",
   "metadata": {
    "scrolled": true
   },
   "outputs": [],
   "source": [
    "plot_conv(itters_cg,results_cg,\"Conjugate Gradients\")"
   ]
  },
  {
   "cell_type": "markdown",
   "id": "5d6de5b9",
   "metadata": {},
   "source": [
    "### Conjugate Gradients Diagonal Preconditioned"
   ]
  },
  {
   "cell_type": "code",
   "execution_count": null,
   "id": "91706349",
   "metadata": {},
   "outputs": [],
   "source": [
    "def conjugate_gradient_diagonal(A,b,qtd,tol):\n",
    "    n = A.shape[0]\n",
    "    x = np.random.rand(n,1)\n",
    "    \n",
    "    itters = [0]\n",
    "    results = [np.linalg.norm(x,2)]\n",
    "    \n",
    "    res = np.subtract(b, A.dot(x))\n",
    "    res_t = np.matrix.transpose(res)\n",
    "    M = matrix.diagonal()\n",
    "    M_inv = spdiags(np.divide(eye(n).data, M), diags= 0,  m = n, n = n)\n",
    "    d = M_inv.dot(res)\n",
    "    delta_new = res_t.dot(d)\n",
    "    \n",
    "    for i in range(qtd):\n",
    "        q = A.dot(d)\n",
    "        alpha = np.divide(delta_new, (np.matrix.transpose(d).dot(q)))\n",
    "        \n",
    "        x = np.add(x, alpha*d)\n",
    "        norm_x = np.linalg.norm(x,2)\n",
    "        \n",
    "        if(i % 50 == 0):\n",
    "            res = np.subtract(b, (A.dot(x)))\n",
    "        else:\n",
    "            res = np.subtract(res, alpha*q)\n",
    "        \n",
    "        s = M_inv.dot(res)\n",
    "        delta_old = delta_new\n",
    "        delta_new = np.matrix.transpose(res).dot(s)\n",
    "        beta = np.divide(delta_new,delta_old)\n",
    "        d = np.add(s, beta*d)\n",
    "        \n",
    "        itters.append(i+1)\n",
    "        results.append(norm_x)\n",
    "        \n",
    "        if norm_x <= tol:\n",
    "            return (itters,results)\n",
    "    \n",
    "    return False"
   ]
  },
  {
   "cell_type": "code",
   "execution_count": null,
   "id": "67d69e79",
   "metadata": {},
   "outputs": [],
   "source": [
    "%%time\n",
    "np.random.seed(seed)\n",
    "itters_cgd,results_cgd = conjugate_gradient_diagonal(matrix,b,qtd = 10**9,tol = 1e-8)"
   ]
  },
  {
   "cell_type": "code",
   "execution_count": null,
   "id": "870c5391",
   "metadata": {
    "scrolled": false
   },
   "outputs": [],
   "source": [
    "plot_conv(itters_cgd,results_cgd,\"Conjugate Gradients Precondicionado pela Diagonal\")"
   ]
  },
  {
   "cell_type": "code",
   "execution_count": null,
   "id": "774c610c",
   "metadata": {},
   "outputs": [],
   "source": [
    "num = 1\n",
    "for i in range(num):\n",
    "    np.random.seed(seed)\n",
    "    itters_sd,results_sd = steepest_descent(matrix,b,qtd = 10**9,tol = 1e-8)\n",
    "    \n",
    "    np.random.seed(seed)\n",
    "    start_sdd = time.time()\n",
    "    itters_sdd,results_sdd = steepest_descent_diagonal(matrix,b,qtd = 10**9,tol = 1e-8)\n",
    "\n",
    "    np.random.seed(seed)\n",
    "    itters_cg,results_cg = conjugate_gradient(matrix,b,qtd = 10**9,tol = 1e-8)\n",
    "\n",
    "    np.random.seed(seed)\n",
    "    itters_cgd,results_cgd = conjugate_gradient_diagonal(matrix,b,qtd = 10**9,tol = 1e-8)"
   ]
  },
  {
   "cell_type": "code",
   "execution_count": null,
   "id": "cd33c1c4",
   "metadata": {},
   "outputs": [],
   "source": [
    "time_sd = time_sdd = time_cg = time_cgd = 0 \n",
    "\n",
    "num = 1\n",
    "for i in range(num):\n",
    "    np.random.seed(seed)\n",
    "    start_sd = time.time()\n",
    "    itters_sd,results_sd = steepest_descent(matrix,b,qtd = 10**9,tol = 1e-8)\n",
    "    end_sd = time.time()\n",
    "    time_sd += end_sd - start_sd\n",
    "\n",
    "    np.random.seed(seed)\n",
    "    start_sdd = time.time()\n",
    "    itters_sdd,results_sdd = steepest_descent_diagonal(matrix,b,qtd = 10**9,tol = 1e-8)\n",
    "    end_sdd = time.time()\n",
    "    time_sdd += end_sdd - start_sdd\n",
    "\n",
    "    np.random.seed(seed)\n",
    "    start_cg = time.time()\n",
    "    itters_cg,results_cg = conjugate_gradient(matrix,b,qtd = 10**9,tol = 1e-8)\n",
    "    end_cg = time.time()\n",
    "    time_cg += end_cg - start_cg\n",
    "\n",
    "    np.random.seed(seed)\n",
    "    start_cgd = time.time()\n",
    "    itters_cgd,results_cgd = conjugate_gradient_diagonal(matrix,b,qtd = 10**9,tol = 1e-8)\n",
    "    end_cgd = time.time()\n",
    "    time_cgd += end_cgd - start_cgd\n",
    "\n",
    "time_sd = time_sd/num\n",
    "time_sdd = time_sdd/num\n",
    "time_cg = time_cg/num\n",
    "time_cgd = time_cgd/num"
   ]
  },
  {
   "cell_type": "code",
   "execution_count": null,
   "id": "41938ddb",
   "metadata": {},
   "outputs": [],
   "source": [
    "print([time_sd,time_sdd,time_cg,time_cgd])"
   ]
  },
  {
   "cell_type": "markdown",
   "id": "ef301f7f",
   "metadata": {},
   "source": [
    "### Gráfico Tempo"
   ]
  },
  {
   "cell_type": "code",
   "execution_count": null,
   "id": "4c91d5bc",
   "metadata": {
    "scrolled": true
   },
   "outputs": [],
   "source": [
    "fig, (ax1) = plt.subplots(nrows=1,ncols=1, figsize = (12,5), sharex=True, sharey=True)\n",
    "\n",
    "\n",
    "x = [\"Steepest Descent\",\"Steepest Descent Precondicionado\",\"Conjugate Gradients\",\"Conjugate Gradients Precondicionado\"]\n",
    "y = [time_sd,time_sdd,time_cg,time_cgd]\n",
    "ax1.bar(x, y)\n",
    "for i,t in enumerate(y):\n",
    "        ax1.text(i,t/2,s=round(t,2),ha=\"center\",va=\"center\",c=\"w\",fontdict={'size':12})\n",
    "\n",
    "ax1.set_title('Tempo de execução até convergência')\n",
    "ax1.set_ylabel('Tempo (s)')\n",
    "\n",
    "plt.show()"
   ]
  },
  {
   "cell_type": "code",
   "execution_count": null,
   "id": "e4eea9da",
   "metadata": {
    "scrolled": false
   },
   "outputs": [],
   "source": [
    "fig, (ax1) = plt.subplots(nrows=1,ncols=1, figsize = (12,5), sharex=True, sharey=True)\n",
    "\n",
    "\n",
    "x = [\"Steepest Descent\",\"Steepest Descent Precondicionado\",\"Conjugate Gradients\",\"Conjugate Gradients Precondicionado\"]\n",
    "y = [len(results_sd),len(results_sdd),len(results_cg),len(results_cgd)]\n",
    "ax1.bar(x, y)\n",
    "for i,t in enumerate(y):\n",
    "        ax1.text(i,t/2,s=round(t,2),ha=\"center\",va=\"center\",c=\"w\",fontdict={'size':12})\n",
    "\n",
    "ax1.set_title('Quantidade de iterações até convergência')\n",
    "ax1.set_ylabel('Iterações')\n",
    "\n",
    "plt.show()"
   ]
  },
  {
   "cell_type": "markdown",
   "id": "f5fde44d",
   "metadata": {},
   "source": [
    "### Gráfico Iterações"
   ]
  },
  {
   "cell_type": "code",
   "execution_count": null,
   "id": "f68ad2a8",
   "metadata": {},
   "outputs": [],
   "source": [
    "results = pd.DataFrame()\n",
    "results[\"Steepest Descent\"] = pd.Series(results_sd)\n",
    "results[\"Steepest Descent Precondicionado\"] = pd.Series(results_sdd)\n",
    "results[\"Conjugate Gradients\"] = pd.Series(results_cg)\n",
    "results[\"Conjugate Gradients Precondicionado\"] = pd.Series(results_cgd)\n"
   ]
  },
  {
   "cell_type": "code",
   "execution_count": null,
   "id": "6643de5e",
   "metadata": {},
   "outputs": [],
   "source": [
    "plt.rcParams.update({\n",
    "  \"text.usetex\": True,\n",
    "  \"font.family\": \"Helvetica\",\n",
    "  \"font.size\":12\n",
    "})"
   ]
  },
  {
   "cell_type": "code",
   "execution_count": null,
   "id": "36d29ebe",
   "metadata": {},
   "outputs": [],
   "source": [
    "fig, (ax1) = plt.subplots(nrows=1, figsize = (15,5), sharex=True)\n",
    "# markers_char = [\"|\", \"x\", \"*\", \"s\"]\n",
    "met = results.columns\n",
    "# markers = dict(zip(queries,markers_char))\n",
    "\n",
    "\n",
    "\n",
    "for q in met:\n",
    "    x = results.index\n",
    "    y = np.log10(results[q])\n",
    "#     ax1.plot(x, y, linewidth=1,marker=markers[q],label=q)\n",
    "    ax1.plot(x, y, linewidth=1, label=q)\n",
    "#     ax1.scatter(x, y, marker=\"x\")\n",
    "\n",
    "ax1.legend(loc='lower center', ncol=7, frameon=False, bbox_to_anchor=(.5, -.30),prop ={'size':12})\n",
    "\n",
    "plt.xticks(fontsize=15)\n",
    "ax1.set_xticks((25,50,75,100,600,625))\n",
    "\n",
    "ax1.set_title('Iterações até convergência',fontdict={'size':18})\n",
    "ax1.set_ylabel(r'$log_{10}(||\\textbf{x}_\\textrm{k}||_2)$',fontdict={'size':20})\n",
    "\n",
    "# ax1.set_ylabel(r'$\\sum_{i=0}^\\infty x_i$')\n",
    "ax1.set_xlabel('Iterações',fontdict={'size':12})\n",
    "\n",
    "plt.show()"
   ]
  }
 ],
 "metadata": {
  "kernelspec": {
   "display_name": "Python 3 (ipykernel)",
   "language": "python",
   "name": "python3"
  },
  "language_info": {
   "codemirror_mode": {
    "name": "ipython",
    "version": 3
   },
   "file_extension": ".py",
   "mimetype": "text/x-python",
   "name": "python",
   "nbconvert_exporter": "python",
   "pygments_lexer": "ipython3",
   "version": "3.8.9"
  }
 },
 "nbformat": 4,
 "nbformat_minor": 5
}
