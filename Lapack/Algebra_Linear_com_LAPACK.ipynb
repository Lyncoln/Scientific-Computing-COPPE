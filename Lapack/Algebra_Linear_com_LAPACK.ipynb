{
 "cells": [
  {
   "cell_type": "code",
   "execution_count": 1,
   "metadata": {
    "id": "vKvG7U6zs1Qr"
   },
   "outputs": [],
   "source": [
    "import scipy.linalg.lapack as la\n",
    "import timeit\n",
    "import numpy as np\n",
    "import sys\n",
    "import pandas as pd\n",
    "import matplotlib.pyplot as plt\n",
    "from matplotlib.lines import Line2D\n",
    "from matplotlib import rc\n",
    "\n",
    "import seaborn as sns"
   ]
  },
  {
   "cell_type": "markdown",
   "metadata": {
    "id": "KM7gF6WzFk38"
   },
   "source": [
    "# Criando objeto para obter as soluções do tipo A*X = B pra os tipos de matrizes"
   ]
  },
  {
   "cell_type": "code",
   "execution_count": 2,
   "metadata": {
    "id": "ieFTCRCjwXWL"
   },
   "outputs": [],
   "source": [
    "#@title Objeto\n",
    "class ExerciseMatrix:\n",
    "    def __init__(self,n):\n",
    "      self.n = n\n",
    "      self.__matrix = np.zeros((self.n, self.n))\n",
    "      \n",
    "    def get_matrix(self):\n",
    "      matrix = np.zeros((self.n, self.n))\n",
    "      for i in range(self.n):\n",
    "          matrix[i,i] = 2\n",
    "          if(i != 0):\n",
    "              matrix[i,i-1] = -1\n",
    "          if(i != (self.n-1)):\n",
    "              matrix[i,i+1] = -1\n",
    "      memory = sys.getsizeof(matrix)/(2**20)\n",
    "      return (matrix,memory)\n",
    "\n",
    "    def get_band(self):\n",
    "      kl = 1\n",
    "      ku = 1\n",
    "      row = 2 * kl + ku + 1\n",
    "      matrix = np.zeros((row, self.n))\n",
    "      for i in range(self.n):\n",
    "          matrix[2, i] = 2\n",
    "          if(i > 0):\n",
    "              matrix[1, i] = -1\n",
    "\n",
    "          if(i < self.n - 1):\n",
    "              matrix[3, i] = -1\n",
    "      memory = sys.getsizeof(matrix)/(2**20)\n",
    "      return (matrix,memory)\n",
    "    \n",
    "    def get_band_sym(self):\n",
    "      row = 2\n",
    "      matrix = np.zeros((row, self.n))\n",
    "      for i in range(self.n):\n",
    "          matrix[1, i] = 2\n",
    "          if(i > 0):\n",
    "              matrix[0, i] = -1\n",
    "      memory = sys.getsizeof(matrix)/(2**20)\n",
    "      return (matrix,memory)\n",
    "    \n",
    "    def get_triagonal(self):\n",
    "      dl = np.full(self.n - 1, -1)\n",
    "      d = np.full(self.n, 2)\n",
    "      du = dl\n",
    "      memory = (sys.getsizeof(dl)+sys.getsizeof(d)+sys.getsizeof(du))/(2**20)\n",
    "      return (dl, d, du, memory)\n",
    "    \n",
    "    def get_triagonal_sym(self):\n",
    "      d = np.full(self.n, 2)\n",
    "      e = np.full(self.n - 1, -1)\n",
    "      memory = (sys.getsizeof(d) + sys.getsizeof(e))/(2**20)\n",
    "      return (d, e, memory)\n",
    "\n",
    "    def solve_dense(self):\n",
    "      b = np.full((self.n,1),1)\n",
    "      A, memory = self.get_matrix()\n",
    "      start = timeit.default_timer()\n",
    "      lub, piv, x, info = la.dgesv(A, b)\n",
    "      stop = timeit.default_timer()\n",
    "      return (x, stop-start,memory)\n",
    "\n",
    "    def solve_dense_sym(self):\n",
    "      b = np.full((self.n,1),1)\n",
    "      A, memory = self.get_matrix()\n",
    "      start = timeit.default_timer()\n",
    "      c, x, info = la.dposv(A, b)\n",
    "      stop = timeit.default_timer()\n",
    "      return (x, stop-start,memory)\n",
    "\n",
    "    def solve_band(self):\n",
    "      kl = 1\n",
    "      ku = 1\n",
    "      b = np.ones((self.n,1))\n",
    "      ab, memory = self.get_band()\n",
    "      start = timeit.default_timer()\n",
    "      lub, piv, x, info = la.dgbsv(kl, ku, ab, b)\n",
    "      stop = timeit.default_timer()\n",
    "      return (x, stop-start,memory)\n",
    "\n",
    "    def solve_band_sym(self):\n",
    "      b = np.ones((self.n,1))\n",
    "      ab, memory = self.get_band_sym()\n",
    "      start = timeit.default_timer()\n",
    "      c, x, info = la.dpbsv(ab, b)\n",
    "      stop = timeit.default_timer()\n",
    "      return (x, stop-start,memory)\n",
    "\n",
    "    def solve_triagonal(self):\n",
    "      b = np.ones((self.n,1))\n",
    "      dl, d, du, memory = self.get_triagonal()\n",
    "      start = timeit.default_timer()\n",
    "      du2, d, du, x, info = la.dgtsv(dl, d, du, b)\n",
    "      stop = timeit.default_timer()\n",
    "      return (x, stop-start,memory)\n",
    "\n",
    "    def solve_triagonal_sym(self):\n",
    "      b = np.ones((self.n,1))\n",
    "      d, e, memory = self.get_triagonal_sym()\n",
    "      start = timeit.default_timer()\n",
    "      d, du, x, info = la.dptsv(d, e, b)\n",
    "      stop = timeit.default_timer()\n",
    "      return (x, stop-start,memory)"
   ]
  },
  {
   "cell_type": "markdown",
   "metadata": {
    "id": "jwCT2VmzFHN1"
   },
   "source": [
    "# Loop para várias dimensões"
   ]
  },
  {
   "cell_type": "markdown",
   "metadata": {},
   "source": [
    "## Esquentando a cache"
   ]
  },
  {
   "cell_type": "code",
   "execution_count": null,
   "metadata": {
    "id": "IW1646nHFLrj"
   },
   "outputs": [],
   "source": [
    "lengths = np.arange(1000,31000,500)\n",
    "# lengths = np.arange(500,2000,500)\n",
    "data = pd.DataFrame(columns = ['matrix_type',\n",
    "                               'dimension',\n",
    "                               'memory_matrix_A',\n",
    "                               'time_elapsed'])\n",
    "\n",
    "#Função auxiliar\n",
    "def add_data_row(data,typ,n,memory,time):\n",
    "    data = data.append({'matrix_type': typ,\n",
    "                      'dimension': int(n),\n",
    "                      'memory_matrix_A': memory,\n",
    "                      'time_elapsed': time},\n",
    "                      ignore_index = True)\n",
    "    return data"
   ]
  },
  {
   "cell_type": "code",
   "execution_count": null,
   "metadata": {
    "id": "P1Z0eZkIFyb2"
   },
   "outputs": [],
   "source": [
    "for n in lengths:\n",
    "    print(n)\n",
    "    matrix = ExerciseMatrix(n)\n",
    "    #Denso\n",
    "    x, time, memory = matrix.solve_dense()\n",
    "    del x\n",
    "    data = add_data_row(data,'dense',n,memory,time)\n",
    "    #Denso Simétrico\n",
    "    x, time, memory = matrix.solve_dense_sym()\n",
    "    del x\n",
    "    data = add_data_row(data,'dense_sym',n,memory/2,time)\n",
    "    #Banda\n",
    "    x, time, memory = matrix.solve_band()\n",
    "    del x\n",
    "    data = add_data_row(data,'band',n,memory,time)\n",
    "    #Banda Simétrico\n",
    "    x, time, memory = matrix.solve_band_sym()\n",
    "    del x\n",
    "    data = add_data_row(data,'band_sym',n,memory,time)\n",
    "    #Tridiagonal\n",
    "    x, time, memory = matrix.solve_triagonal()\n",
    "    del x\n",
    "    data = add_data_row(data,'tridiagonal',n,memory,time)\n",
    "    #Tridiagonal Simétrico\n",
    "    x, time, memory = matrix.solve_triagonal_sym()\n",
    "    del x\n",
    "    data = add_data_row(data,'tridiagonal_sym',n,memory,time)\n"
   ]
  },
  {
   "cell_type": "markdown",
   "metadata": {},
   "source": [
    "## Salvando os dados"
   ]
  },
  {
   "cell_type": "code",
   "execution_count": null,
   "metadata": {},
   "outputs": [],
   "source": [
    "lengths = np.arange(1000,35500,500)\n",
    "# lengths = np.arange(500,2000,500)\n",
    "data = pd.DataFrame(columns = ['matrix_type',\n",
    "                               'dimension',\n",
    "                               'memory_matrix_A',\n",
    "                               'time_elapsed'])\n",
    "\n",
    "#Função auxiliar\n",
    "def add_data_row(data,typ,n,memory,time):\n",
    "    data = data.append({'matrix_type': typ,\n",
    "                      'dimension': int(n),\n",
    "                      'memory_matrix_A': memory,\n",
    "                      'time_elapsed': time},\n",
    "                      ignore_index = True)\n",
    "    return data"
   ]
  },
  {
   "cell_type": "code",
   "execution_count": null,
   "metadata": {},
   "outputs": [],
   "source": [
    "for n in lengths:\n",
    "    print(n)\n",
    "    matrix = ExerciseMatrix(n)\n",
    "    #Denso\n",
    "    x, time, memory = matrix.solve_dense()\n",
    "    del x\n",
    "    data = add_data_row(data,'dense',n,memory,time)\n",
    "    #Denso Simétrico\n",
    "    x, time, memory = matrix.solve_dense_sym()\n",
    "    del x\n",
    "    data = add_data_row(data,'dense_sym',n,memory/2,time)\n",
    "    #Banda\n",
    "    x, time, memory = matrix.solve_band()\n",
    "    del x\n",
    "    data = add_data_row(data,'band',n,memory,time)\n",
    "    #Banda Simétrico\n",
    "    x, time, memory = matrix.solve_band_sym()\n",
    "    del x\n",
    "    data = add_data_row(data,'band_sym',n,memory,time)\n",
    "    #Tridiagonal\n",
    "    x, time, memory = matrix.solve_triagonal()\n",
    "    del x\n",
    "    data = add_data_row(data,'tridiagonal',n,memory,time)\n",
    "    #Tridiagonal Simétrico\n",
    "    x, time, memory = matrix.solve_triagonal_sym()\n",
    "    del x\n",
    "    data = add_data_row(data,'tridiagonal_sym',n,memory,time)\n"
   ]
  },
  {
   "cell_type": "code",
   "execution_count": null,
   "metadata": {},
   "outputs": [],
   "source": [
    "data.to_csv(\"exercise_lapack.csv\")"
   ]
  },
  {
   "cell_type": "markdown",
   "metadata": {},
   "source": [
    "# Gerando visualização"
   ]
  },
  {
   "cell_type": "code",
   "execution_count": null,
   "metadata": {},
   "outputs": [],
   "source": [
    "data = pd.read_csv(\"exercise_lapack.csv\", index_col = 0)\n",
    "img_dim = (25,8.5)"
   ]
  },
  {
   "cell_type": "markdown",
   "metadata": {},
   "source": [
    "## Caso Denso"
   ]
  },
  {
   "cell_type": "code",
   "execution_count": null,
   "metadata": {
    "scrolled": true
   },
   "outputs": [],
   "source": [
    "sns.set_theme(font_scale=1.2)\n",
    "# rc('text', usetex=True)\n",
    "\n",
    "fig, (ax1, ax2) = plt.subplots(nrows=2, figsize = img_dim, sharex=True)\n",
    "types = ['dense','dense_sym']\n",
    "markers_char = [\"^\", \"^\", \"h\", \"h\", \"s\", \"s\"]\n",
    "markers = dict(zip(types, markers_char))\n",
    "colors = ['blue' if 'sym' in x else 'red' for x in types]\n",
    "sym_colors = dict(zip(types, colors))\n",
    "labels_clean = [t.replace(\"_sym\", \"\") for t in types]\n",
    "labels = dict(zip(types, labels_clean))\n",
    "\n",
    "\n",
    "for t in types:\n",
    "    data_aux = data[data['matrix_type'] == t]\n",
    "    x = data_aux['dimension']\n",
    "    y =  data_aux['memory_matrix_A']\n",
    "    ax1.plot(x, y, c=sym_colors[t], linewidth=0.5)\n",
    "    # ax1.scatter(x, y, c=sym_colors[t], marker=markers[t], label=labels[t])\n",
    "    ax1.scatter(x, y, c=sym_colors[t], marker=markers[t])\n",
    "\n",
    "ax1.set_title('Memória alocada para matriz A x Dimensão')\n",
    "ax1.set_ylabel('Memória (Mb)')\n",
    "\n",
    "\n",
    "for t in types:\n",
    "    data_aux = data[data['matrix_type'] == t]\n",
    "    x = data_aux['dimension']\n",
    "    y =  data_aux['time_elapsed']\n",
    "    ax2.plot(x, y, c=sym_colors[t], linewidth=0.5)\n",
    "    # ax2.scatter(x, y, c=sym_colors[t], marker=markers[t], label=labels[t])\n",
    "    ax2.scatter(x, y, c=sym_colors[t], marker=markers[t])\n",
    "\n",
    "ax2.set_xlabel('Dimensão')\n",
    "ax2.set_ylabel('Tempo (s)')\n",
    "ax2.set_title('Tempo de processamento x Dimensão')\n",
    "\n",
    "legend_elements_colors = [Line2D([0], [0], color=\"red\", lw=4, label=\"Assimétrico\"), Line2D([0], [0], color=\"blue\", lw=4, label=\"Simétrico\")]\n",
    "legend1 = plt.legend(handles=legend_elements_colors, loc='lower center', ncol=3, frameon=False, bbox_to_anchor=(.5, -.30))\n",
    "\n",
    "ax2.add_artist(legend1)\n",
    "\n",
    "\n",
    "# plt.suptitle(f'Desempenho')\n",
    "plt.show()"
   ]
  },
  {
   "cell_type": "markdown",
   "metadata": {},
   "source": [
    "## Caso Banda"
   ]
  },
  {
   "cell_type": "code",
   "execution_count": null,
   "metadata": {
    "scrolled": false
   },
   "outputs": [],
   "source": [
    "sns.set_theme(font_scale=1.2)\n",
    "# rc('text', usetex=True)\n",
    "\n",
    "fig, (ax1, ax2) = plt.subplots(nrows=2, figsize = img_dim, sharex=True)\n",
    "types = [\"band\",\"band_sym\"]\n",
    "markers_char = [\"h\", \"h\"]\n",
    "markers = dict(zip(types, markers_char))\n",
    "colors = ['blue' if 'sym' in x else 'red' for x in types]\n",
    "sym_colors = dict(zip(types, colors))\n",
    "labels_clean = [t.replace(\"_sym\", \"\") for t in types]\n",
    "labels = dict(zip(types, labels_clean))\n",
    "\n",
    "\n",
    "for t in types:\n",
    "    data_aux = data[data['matrix_type'] == t]\n",
    "    x = data_aux['dimension']\n",
    "    y =  data_aux['memory_matrix_A']\n",
    "    ax1.plot(x, y, c=sym_colors[t], linewidth=0.5)\n",
    "    # ax1.scatter(x, y, c=sym_colors[t], marker=markers[t], label=labels[t])\n",
    "    ax1.scatter(x, y, c=sym_colors[t], marker=markers[t])\n",
    "\n",
    "ax1.set_title('Memória alocada para matriz A x Dimensão')\n",
    "ax1.set_ylabel('Memória (Mb)')\n",
    "\n",
    "for t in types:\n",
    "    data_aux = data[data['matrix_type'] == t]\n",
    "    x = data_aux['dimension']\n",
    "    y =  data_aux['time_elapsed']\n",
    "    ax2.plot(x, y, c=sym_colors[t], linewidth=0.5)\n",
    "    # ax2.scatter(x, y, c=sym_colors[t], marker=markers[t], label=labels[t])\n",
    "    ax2.scatter(x, y, c=sym_colors[t], marker=markers[t])\n",
    "\n",
    "ax2.set_xlabel('Dimensão')\n",
    "ax2.set_ylabel('Tempo (s)')\n",
    "ax2.set_title('Tempo de processamento x Dimensão')\n",
    "\n",
    "\n",
    "legend_elements_colors = [Line2D([0], [0], color=\"red\", lw=4, label=\"Assimétrico\"), Line2D([0], [0], color=\"blue\", lw=4, label=\"Simétrico\")]\n",
    "legend1 = plt.legend(handles=legend_elements_colors, loc='lower center', ncol=3, frameon=False, bbox_to_anchor=(.5, -.30))\n",
    "\n",
    "\n",
    "ax2.add_artist(legend1)\n",
    "\n",
    "\n",
    "# plt.suptitle(f'Desempenho')\n",
    "plt.show()"
   ]
  },
  {
   "cell_type": "markdown",
   "metadata": {},
   "source": [
    "## Caso Tridiagonal"
   ]
  },
  {
   "cell_type": "code",
   "execution_count": null,
   "metadata": {
    "scrolled": true
   },
   "outputs": [],
   "source": [
    "sns.set_theme(font_scale=1.2)\n",
    "# rc('text', usetex=True)\n",
    "\n",
    "fig, (ax1, ax2) = plt.subplots(nrows=2, figsize = img_dim, sharex=True)\n",
    "types = ['tridiagonal','tridiagonal_sym']\n",
    "markers_char = [\"s\", \"s\"]\n",
    "markers = dict(zip(types, markers_char))\n",
    "colors = ['blue' if 'sym' in x else 'red' for x in types]\n",
    "sym_colors = dict(zip(types, colors))\n",
    "labels_clean = [t.replace(\"_sym\", \"\") for t in types]\n",
    "labels = dict(zip(types, labels_clean))\n",
    "\n",
    "\n",
    "for t in types:\n",
    "    data_aux = data[data['matrix_type'] == t]\n",
    "    x = data_aux['dimension']\n",
    "    y =  data_aux['memory_matrix_A']\n",
    "    ax1.plot(x, y, c=sym_colors[t], linewidth=0.5)\n",
    "    # ax1.scatter(x, y, c=sym_colors[t], marker=markers[t], label=labels[t])\n",
    "    ax1.scatter(x, y, c=sym_colors[t], marker=markers[t])\n",
    "\n",
    "ax1.set_title('Memória alocada para matriz A x Dimensão')\n",
    "ax1.set_ylabel('Memória (Mb)')\n",
    "\n",
    "for t in types:\n",
    "    data_aux = data[data['matrix_type'] == t]\n",
    "    x = data_aux['dimension']\n",
    "    y =  data_aux['time_elapsed']\n",
    "    ax2.plot(x, y, c=sym_colors[t], linewidth=0.5)\n",
    "    # ax2.scatter(x, y, c=sym_colors[t], marker=markers[t], label=labels[t])\n",
    "    ax2.scatter(x, y, c=sym_colors[t], marker=markers[t])\n",
    "\n",
    "ax2.set_xlabel('Dimensão')\n",
    "ax2.set_ylabel('Tempo (s)')\n",
    "ax2.set_title('Tempo de processamento x Dimensão')\n",
    "\n",
    "\n",
    "legend_elements_colors = [Line2D([0], [0], color=\"red\", lw=4, label=\"Assimétrico\"), Line2D([0], [0], color=\"blue\", lw=4, label=\"Simétrico\")]\n",
    "legend1 = plt.legend(handles=legend_elements_colors, loc='lower center', ncol=3, frameon=False, bbox_to_anchor=(.5, -.30))\n",
    "\n",
    "ax2.add_artist(legend1)\n",
    "\n",
    "# plt.suptitle(f'Desempenho')\n",
    "plt.show()"
   ]
  },
  {
   "cell_type": "markdown",
   "metadata": {},
   "source": [
    "## Caso Geral"
   ]
  },
  {
   "cell_type": "code",
   "execution_count": null,
   "metadata": {
    "scrolled": true
   },
   "outputs": [],
   "source": [
    "sns.set_theme(font_scale=1.2)\n",
    "# rc('text', usetex=True)\n",
    "\n",
    "fig, (ax1, ax2) = plt.subplots(nrows=2, figsize = img_dim, sharex=True)\n",
    "types = data['matrix_type'].unique()\n",
    "markers_char = [\"^\", \"^\", \"h\", \"h\", \"s\", \"s\"]\n",
    "markers = dict(zip(types, markers_char))\n",
    "colors = ['blue' if 'sym' in x else 'red' for x in types]\n",
    "sym_colors = dict(zip(types, colors))\n",
    "labels_clean = [t.replace(\"_sym\", \"\") for t in types]\n",
    "labels = dict(zip(types, labels_clean))\n",
    "\n",
    "\n",
    "for t in types:\n",
    "    data_aux = data[data['matrix_type'] == t]\n",
    "    x = data_aux['dimension']\n",
    "    y =  np.log10(data_aux['memory_matrix_A'])\n",
    "    ax1.plot(x, y, c=sym_colors[t], linewidth=0.5)\n",
    "    # ax1.scatter(x, y, c=sym_colors[t], marker=markers[t], label=labels[t])\n",
    "    ax1.scatter(x, y, c=sym_colors[t], marker=markers[t])\n",
    "\n",
    "ax1.set_title('Memória alocada para matriz A x Dimensão')\n",
    "ax1.set_ylabel('Log_{10}(Memória em Mb)')\n",
    "\n",
    "for t in types:\n",
    "    data_aux = data[data['matrix_type'] == t]\n",
    "    x = data_aux['dimension']\n",
    "    y =  np.log10(data_aux['time_elapsed'])\n",
    "    ax2.plot(x, y, c=sym_colors[t], linewidth=0.5)\n",
    "    # ax2.scatter(x, y, c=sym_colors[t], marker=markers[t], label=labels[t])\n",
    "    ax2.scatter(x, y, c=sym_colors[t], marker=markers[t])\n",
    "\n",
    "ax2.set_xlabel('Dimensão')\n",
    "ax2.set_ylabel('Log_{10}(Tempo em segundos)')\n",
    "ax2.set_title('Tempo de processamento x Dimensão')\n",
    "\n",
    "\n",
    "legend_elements_colors = [Line2D([0], [0], color=\"red\", lw=4, label=\"Assimétrico\"), Line2D([0], [0], color=\"blue\", lw=4, label=\"Simétrico\")]\n",
    "legend_elements_markers = [\n",
    "                           Line2D([0], [0], marker='^', color='w', label='Densa', markerfacecolor='black', markersize=12),\n",
    "                           Line2D([0], [0], marker='h', color='w', label='Banda', markerfacecolor='black', markersize=12),\n",
    "                           Line2D([0], [0], marker='s', color='w', label='Tridiagonal', markerfacecolor='black', markersize=12)\n",
    "                        ]\n",
    "\n",
    "legend1 = plt.legend(handles=legend_elements_colors, loc='lower center', ncol=3, frameon=False, bbox_to_anchor=(.5, -.30))\n",
    "legend2 = plt.legend(handles=legend_elements_markers, loc='lower center', ncol=3, frameon=False, bbox_to_anchor=(.5, -.36))\n",
    "\n",
    "ax2.add_artist(legend1)\n",
    "ax2.add_artist(legend2)\n",
    "\n",
    "# plt.suptitle(f'Desempenho')\n",
    "plt.show()"
   ]
  },
  {
   "cell_type": "code",
   "execution_count": 4,
   "metadata": {},
   "outputs": [
    {
     "ename": "MemoryError",
     "evalue": "Unable to allocate 74.5 GiB for an array with shape (100000, 100000) and data type float64",
     "output_type": "error",
     "traceback": [
      "\u001b[1;31m---------------------------------------------------------------------------\u001b[0m",
      "\u001b[1;31mMemoryError\u001b[0m                               Traceback (most recent call last)",
      "\u001b[1;32m~\\AppData\\Local\\Temp/ipykernel_17244/886061292.py\u001b[0m in \u001b[0;36m<module>\u001b[1;34m\u001b[0m\n\u001b[1;32m----> 1\u001b[1;33m \u001b[0mteste\u001b[0m \u001b[1;33m=\u001b[0m \u001b[0mExerciseMatrix\u001b[0m\u001b[1;33m(\u001b[0m\u001b[1;36m100000\u001b[0m\u001b[1;33m)\u001b[0m\u001b[1;33m\u001b[0m\u001b[1;33m\u001b[0m\u001b[0m\n\u001b[0m\u001b[0;32m      2\u001b[0m \u001b[0mteste\u001b[0m\u001b[1;33m.\u001b[0m\u001b[0mget_matrix\u001b[0m\u001b[1;33m(\u001b[0m\u001b[1;33m)\u001b[0m\u001b[1;33m\u001b[0m\u001b[1;33m\u001b[0m\u001b[0m\n",
      "\u001b[1;32m~\\AppData\\Local\\Temp/ipykernel_17244/471652937.py\u001b[0m in \u001b[0;36m__init__\u001b[1;34m(self, n)\u001b[0m\n\u001b[0;32m      3\u001b[0m     \u001b[1;32mdef\u001b[0m \u001b[0m__init__\u001b[0m\u001b[1;33m(\u001b[0m\u001b[0mself\u001b[0m\u001b[1;33m,\u001b[0m\u001b[0mn\u001b[0m\u001b[1;33m)\u001b[0m\u001b[1;33m:\u001b[0m\u001b[1;33m\u001b[0m\u001b[1;33m\u001b[0m\u001b[0m\n\u001b[0;32m      4\u001b[0m       \u001b[0mself\u001b[0m\u001b[1;33m.\u001b[0m\u001b[0mn\u001b[0m \u001b[1;33m=\u001b[0m \u001b[0mn\u001b[0m\u001b[1;33m\u001b[0m\u001b[1;33m\u001b[0m\u001b[0m\n\u001b[1;32m----> 5\u001b[1;33m       \u001b[0mself\u001b[0m\u001b[1;33m.\u001b[0m\u001b[0m__matrix\u001b[0m \u001b[1;33m=\u001b[0m \u001b[0mnp\u001b[0m\u001b[1;33m.\u001b[0m\u001b[0mzeros\u001b[0m\u001b[1;33m(\u001b[0m\u001b[1;33m(\u001b[0m\u001b[0mself\u001b[0m\u001b[1;33m.\u001b[0m\u001b[0mn\u001b[0m\u001b[1;33m,\u001b[0m \u001b[0mself\u001b[0m\u001b[1;33m.\u001b[0m\u001b[0mn\u001b[0m\u001b[1;33m)\u001b[0m\u001b[1;33m)\u001b[0m\u001b[1;33m\u001b[0m\u001b[1;33m\u001b[0m\u001b[0m\n\u001b[0m\u001b[0;32m      6\u001b[0m \u001b[1;33m\u001b[0m\u001b[0m\n\u001b[0;32m      7\u001b[0m     \u001b[1;32mdef\u001b[0m \u001b[0mget_matrix\u001b[0m\u001b[1;33m(\u001b[0m\u001b[0mself\u001b[0m\u001b[1;33m)\u001b[0m\u001b[1;33m:\u001b[0m\u001b[1;33m\u001b[0m\u001b[1;33m\u001b[0m\u001b[0m\n",
      "\u001b[1;31mMemoryError\u001b[0m: Unable to allocate 74.5 GiB for an array with shape (100000, 100000) and data type float64"
     ]
    }
   ],
   "source": [
    "teste = ExerciseMatrix(100000)\n",
    "teste.get_matrix()"
   ]
  }
 ],
 "metadata": {
  "colab": {
   "collapsed_sections": [],
   "name": "Algebra Linear com LAPACK.ipynb",
   "provenance": []
  },
  "kernelspec": {
   "display_name": "Python 3 (ipykernel)",
   "language": "python",
   "name": "python3"
  },
  "language_info": {
   "codemirror_mode": {
    "name": "ipython",
    "version": 3
   },
   "file_extension": ".py",
   "mimetype": "text/x-python",
   "name": "python",
   "nbconvert_exporter": "python",
   "pygments_lexer": "ipython3",
   "version": "3.7.7"
  }
 },
 "nbformat": 4,
 "nbformat_minor": 1
}
